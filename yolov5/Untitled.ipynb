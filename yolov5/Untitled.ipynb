{
 "cells": [
  {
   "cell_type": "code",
   "execution_count": 1,
   "id": "b66d6335-867a-49ab-8f17-1a10090a3ce6",
   "metadata": {},
   "outputs": [],
   "source": [
    "import os\n",
    "import glob"
   ]
  },
  {
   "cell_type": "code",
   "execution_count": 2,
   "id": "1e6a76a9-182c-4d22-8fc4-57030d727344",
   "metadata": {},
   "outputs": [],
   "source": [
    "with open('detect.py', 'r') as detect_py:\n",
    "    detect_py_line = detect_py.readlines()"
   ]
  },
  {
   "cell_type": "code",
   "execution_count": 45,
   "id": "174f3e96-0fe3-4528-b6b0-1a20bf89b747",
   "metadata": {},
   "outputs": [
    {
     "data": {
      "text/plain": [
       "\"    parser.add_argument('--source', type=str, default=ROOT / '../images', help='file/dir/URL/glob/screen/0(webcam)')\\n\""
      ]
     },
     "execution_count": 45,
     "metadata": {},
     "output_type": "execute_result"
    }
   ],
   "source": [
    "detect_py_line[139]"
   ]
  },
  {
   "cell_type": "code",
   "execution_count": 11,
   "id": "0480f05b-62ea-4f32-a8bc-793a1f3bf5cb",
   "metadata": {},
   "outputs": [],
   "source": [
    "b= '../images'"
   ]
  },
  {
   "cell_type": "code",
   "execution_count": 42,
   "id": "95ae3254-cedf-4431-b0b1-4f670dd530bb",
   "metadata": {},
   "outputs": [],
   "source": [
    "a = \"        source=ROOT / , \"+f\"'{b}'\"+\" # file/dir/URL/glob/screen/0(webcam)\\n\""
   ]
  },
  {
   "cell_type": "code",
   "execution_count": 43,
   "id": "609370e7-425f-4368-88d5-33c7bb44e5f8",
   "metadata": {},
   "outputs": [
    {
     "data": {
      "text/plain": [
       "\"        source=ROOT / , '../images' # file/dir/URL/glob/screen/0(webcam)\\n\""
      ]
     },
     "execution_count": 43,
     "metadata": {},
     "output_type": "execute_result"
    }
   ],
   "source": [
    "a"
   ]
  },
  {
   "cell_type": "code",
   "execution_count": 37,
   "id": "60c8dd66-53ab-4687-a39b-8301c6d2c80e",
   "metadata": {},
   "outputs": [
    {
     "data": {
      "text/plain": [
       "' '"
      ]
     },
     "execution_count": 37,
     "metadata": {},
     "output_type": "execute_result"
    }
   ],
   "source": [
    "a[21]"
   ]
  }
 ],
 "metadata": {
  "kernelspec": {
   "display_name": "Python 3",
   "language": "python",
   "name": "python3"
  },
  "language_info": {
   "codemirror_mode": {
    "name": "ipython",
    "version": 3
   },
   "file_extension": ".py",
   "mimetype": "text/x-python",
   "name": "python",
   "nbconvert_exporter": "python",
   "pygments_lexer": "ipython3",
   "version": "3.8.8"
  }
 },
 "nbformat": 4,
 "nbformat_minor": 5
}
